{
 "cells": [
  {
   "cell_type": "code",
   "execution_count": 1,
   "metadata": {},
   "outputs": [],
   "source": [
    "def convert_and_trim_bb(image, rect):\n",
    "\t# extract the starting and ending (x, y)-coordinates of the\n",
    "\t# bounding box\n",
    "\tstartX = rect.left()\n",
    "\tstartY = rect.top()\n",
    "\tendX = rect.right()\n",
    "\tendY = rect.bottom()\n",
    "\t# ensure the bounding box coordinates fall within the spatial\n",
    "\t# dimensions of the image\n",
    "\tstartX = max(0, startX)\n",
    "\tstartY = max(0, startY)\n",
    "\tendX = min(endX, image.shape[1])\n",
    "\tendY = min(endY, image.shape[0])\n",
    "\t# compute the width and height of the bounding box\n",
    "\tw = endX - startX\n",
    "\th = endY - startY\n",
    "\t# return our bounding box coordinates\n",
    "\treturn (startX, startY, w, h)"
   ]
  },
  {
   "cell_type": "code",
   "execution_count": 2,
   "metadata": {},
   "outputs": [
    {
     "name": "stdout",
     "output_type": "stream",
     "text": [
      "dlib로 얼굴탐지 시작\n",
      "얼굴 탐지에 0.1199초 소요\n"
     ]
    }
   ],
   "source": [
    "import cv2\n",
    "import time\n",
    "import dlib\n",
    "\n",
    "detector = dlib.get_frontal_face_detector()\n",
    "\n",
    "# 이미지를 불러오고 크기를 변경한 다음 BGR 채널을 RGB 채널로 바꿉니다.\n",
    "image = cv2.imread(\"peoples.jpg\")\n",
    "ratio = 600.0 / image.shape[1]\n",
    "dim = (600, int(image.shape[0] * ratio))\n",
    "image = cv2.resize(image, dsize=dim) # 가로세로 비율을 유지하면서 가로 크기를 600으로\n",
    "rgb = cv2.cvtColor(image, cv2.COLOR_BGR2RGB)\n",
    "\n",
    "# dlib 얼굴 탐지기를 이용하여 얼굴 탐지를 시작합니다.\n",
    "# 얼굴 탐지에 소요되는 시간을 체크하기 위해 time 모듈을 사용했습니다.\n",
    "start = time.time()\n",
    "print(\"dlib로 얼굴탐지 시작\")\n",
    "rects = detector(rgb, 1) # 이미지를 업샘플링 1회 후 탐지\n",
    "end = time.time()   # 얼굴 탐지에 소요되는 시간을 체크\n",
    "print(\"얼굴 탐지에 {:.4f}초 소요\".format(end - start))"
   ]
  },
  {
   "cell_type": "code",
   "execution_count": 3,
   "metadata": {},
   "outputs": [],
   "source": [
    "# dlib의 결과 사각형 객체를 경계 상자로 변환 한 \n",
    "# 다음 경계 상자가 모두 입력 이미지의 경계 내에 있는지 확인합니다.\n",
    "boxes = [convert_and_trim_bb(image, r) for r in rects]\n",
    "# 모든 박스에 대해 반복합니다.\n",
    "for (x, y, w, h) in boxes:\n",
    "\t# 이미지에 바운딩박스를 그립니다.\n",
    "\tcv2.rectangle(image, (x, y), (x + w, y + h), (0, 255, 0), 2)\n",
    "\n",
    "cv2.imshow(\"Output\", image)\n",
    "cv2.waitKey(0)\n",
    "cv2.destroyAllWindows()"
   ]
  },
  {
   "cell_type": "code",
   "execution_count": null,
   "metadata": {},
   "outputs": [],
   "source": []
  }
 ],
 "metadata": {
  "kernelspec": {
   "display_name": "Python 3",
   "language": "python",
   "name": "python3"
  },
  "language_info": {
   "codemirror_mode": {
    "name": "ipython",
    "version": 3
   },
   "file_extension": ".py",
   "mimetype": "text/x-python",
   "name": "python",
   "nbconvert_exporter": "python",
   "pygments_lexer": "ipython3",
   "version": "3.8.5"
  },
  "toc": {
   "base_numbering": 1,
   "nav_menu": {},
   "number_sections": true,
   "sideBar": true,
   "skip_h1_title": false,
   "title_cell": "Table of Contents",
   "title_sidebar": "Contents",
   "toc_cell": false,
   "toc_position": {},
   "toc_section_display": true,
   "toc_window_display": false
  }
 },
 "nbformat": 4,
 "nbformat_minor": 4
}
